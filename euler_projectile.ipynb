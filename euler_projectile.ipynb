{
 "cells": [
  {
   "cell_type": "code",
   "execution_count": 1,
   "metadata": {},
   "outputs": [],
   "source": [
    "import numpy as np\n",
    "import matplotlib.pyplot as plt\n",
    "\n",
    "def projectile_euler(y0, x0, v0, degree): #y0 dediğimiz şey her daim 0 dan büyük olmalıdır ki bu kod çalışabilsin y = 0 için 0.001 gibi bir değer veriniz\n",
    "    x = x0\n",
    "\n",
    "    y = y0\n",
    "\n",
    "    v = v0\n",
    "\n",
    "    g = -9.8\n",
    "\n",
    "    dt= 0.00001\n",
    "\n",
    "    t = 0 \n",
    "\n",
    "    theta = degree*np.pi/180\n",
    "\n",
    "    ydata = [] #bir sürü yöntem denedim ama çözemediğim hatalar aldım, bu internetten bulduğum list yöntemi en makulü geldi, matrix kullanınca y > 0.0 şartını sağlamayı beceremedim\n",
    "\n",
    "    vdata = []\n",
    "\n",
    "    tdata = []\n",
    "\n",
    "    xdata = []\n",
    "\n",
    "\n",
    "\n",
    "    v_y = v0*np.sin(theta)\n",
    "\n",
    "    v_x = v0*np.cos(theta)\n",
    "\n",
    "\n",
    "    while y > 0.0:\n",
    "        tdata.append(t) #append komutu hazırdaki bir list'e yeni elemanları hızlıca yüklemek için kullanılan bir komuttur\n",
    "\n",
    "        vdata.append(v)\n",
    "\n",
    "        ydata.append(y)\n",
    "\n",
    "        xdata.append(x)\n",
    "\n",
    "        t = t + dt\n",
    "\n",
    "        v_y = v_y + dt*g\n",
    "\n",
    "        v_x = v_x + dt*0\n",
    "\n",
    "        y = y + dt*v_y\n",
    "\n",
    "        x = x + dt*v_x\n",
    "\n",
    "        v = np.arctan2(v_y, v_x)\n",
    "\n",
    "        print(y, v_y, v) \n",
    "\n",
    "\n",
    "\n",
    "    plt.figure(figsize = (12, 8))\n",
    "    plt.plot(xdata, ydata, 'bo--', label='Yaklaşık')\n",
    "    plt.title('Euler Methodu İle Eğik Atış ')\n",
    "    plt.xlabel('x')\n",
    "    plt.ylabel('y')\n",
    "    plt.grid()\n",
    "    plt.legend(loc='upper right')\n",
    "    plt.show()\n",
    "\n",
    "\n"
   ]
  },
  {
   "cell_type": "code",
   "execution_count": 17,
   "metadata": {},
   "outputs": [
    {
     "name": "stdout",
     "output_type": "stream",
     "text": [
      "-0.000262945557172513 -30.407254000155046 -1.5707963267948966\n"
     ]
    },
    {
     "data": {
      "image/png": "[encoded data removed]",
      "text/plain": [
       "<Figure size 864x576 with 1 Axes>"
      ]
     },
     "metadata": {
      "needs_background": "light"
     },
     "output_type": "display_data"
    }
   ],
   "source": [
    "projectile_euler(41,0,11,90) \n",
    "\n",
    "\n"
   ]
  },
  {
   "cell_type": "code",
   "execution_count": null,
   "metadata": {},
   "outputs": [],
   "source": []
  }
 ],
 "metadata": {
  "interpreter": {
   "hash": "8543aeb3ed6b012f3ed36035677020b081add8a8541a0eaa4cba4b51625cb8da"
  },
  "kernelspec": {
   "display_name": "Python 3.9.7 ('base')",
   "language": "python",
   "name": "python3"
  },
  "language_info": {
   "codemirror_mode": {
    "name": "ipython",
    "version": 3
   },
   "file_extension": ".py",
   "mimetype": "text/x-python",
   "name": "python",
   "nbconvert_exporter": "python",
   "pygments_lexer": "ipython3",
   "version": "3.9.7"
  },
  "orig_nbformat": 4
 },
 "nbformat": 4,
 "nbformat_minor": 2
}
